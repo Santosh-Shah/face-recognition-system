{
 "cells": [
  {
   "cell_type": "code",
   "execution_count": 1,
   "metadata": {},
   "outputs": [
    {
     "ename": "KeyboardInterrupt",
     "evalue": "",
     "output_type": "error",
     "traceback": [
      "\u001b[1;31m---------------------------------------------------------------------------\u001b[0m",
      "\u001b[1;31mKeyboardInterrupt\u001b[0m                         Traceback (most recent call last)",
      "Cell \u001b[1;32mIn[1], line 15\u001b[0m\n\u001b[0;32m     13\u001b[0m   imgBackground[\u001b[38;5;241m162\u001b[39m:\u001b[38;5;241m162\u001b[39m\u001b[38;5;241m+\u001b[39m\u001b[38;5;241m480\u001b[39m, \u001b[38;5;241m55\u001b[39m:\u001b[38;5;241m55\u001b[39m\u001b[38;5;241m+\u001b[39m\u001b[38;5;241m640\u001b[39m] \u001b[38;5;241m=\u001b[39m img\n\u001b[0;32m     14\u001b[0m   \u001b[38;5;66;03m# cv2.imshow(\"Webcam\", img)\u001b[39;00m\n\u001b[1;32m---> 15\u001b[0m   \u001b[43mcv2\u001b[49m\u001b[38;5;241;43m.\u001b[39;49m\u001b[43mimshow\u001b[49m\u001b[43m(\u001b[49m\u001b[38;5;124;43m\"\u001b[39;49m\u001b[38;5;124;43mFace Attendance\u001b[39;49m\u001b[38;5;124;43m\"\u001b[39;49m\u001b[43m,\u001b[49m\u001b[43m \u001b[49m\u001b[43mimgBackground\u001b[49m\u001b[43m)\u001b[49m\n\u001b[0;32m     16\u001b[0m   cv2\u001b[38;5;241m.\u001b[39mwaitKey(\u001b[38;5;241m1\u001b[39m)\n\u001b[0;32m     18\u001b[0m cap\u001b[38;5;241m.\u001b[39mrelease()\n",
      "\u001b[1;31mKeyboardInterrupt\u001b[0m: "
     ]
    },
    {
     "ename": "",
     "evalue": "",
     "output_type": "error",
     "traceback": [
      "\u001b[1;31mThe Kernel crashed while executing code in the current cell or a previous cell. \n",
      "\u001b[1;31mPlease review the code in the cell(s) to identify a possible cause of the failure. \n",
      "\u001b[1;31mClick <a href='https://aka.ms/vscodeJupyterKernelCrash'>here</a> for more info. \n",
      "\u001b[1;31mView Jupyter <a href='command:jupyter.viewOutput'>log</a> for further details."
     ]
    }
   ],
   "source": [
    "import cv2\n",
    "\n",
    "cap = cv2.VideoCapture(0)\n",
    "cap.set(3, 640)\n",
    "cap.set(4, 480)\n",
    "\n",
    "imgBackground = cv2.imread(r\"C:\\pythonClass\\projects\\Face Recognition System with Real Time Database\\Resources\\background.png\")\n",
    "\n",
    "while True:\n",
    "  success, img = cap.read()\n",
    "  imgBackground[162:162+480, 55:55+640] = img\n",
    "  # cv2.imshow(\"Webcam\", img)\n",
    "  cv2.imshow(\"Face Attendance\", imgBackground)\n",
    "  cv2.waitKey(1)\n",
    "  \n",
    "cap.release()\n",
    "cv2.destroyAllWindows()"
   ]
  }
 ],
 "metadata": {
  "kernelspec": {
   "display_name": "Python 3",
   "language": "python",
   "name": "python3"
  },
  "language_info": {
   "codemirror_mode": {
    "name": "ipython",
    "version": 3
   },
   "file_extension": ".py",
   "mimetype": "text/x-python",
   "name": "python",
   "nbconvert_exporter": "python",
   "pygments_lexer": "ipython3",
   "version": "3.11.7"
  }
 },
 "nbformat": 4,
 "nbformat_minor": 2
}
